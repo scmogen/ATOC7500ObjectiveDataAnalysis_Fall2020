{
 "cells": [
  {
   "cell_type": "markdown",
   "metadata": {},
   "source": [
    "# Homework 1"
   ]
  },
  {
   "cell_type": "markdown",
   "metadata": {},
   "source": [
    "Your friend living in Fort Collins tells you that the air pressure is anomalous when there is measurable precipitation (greater than or equal to 0.01 inches). To test your friends’ hypothesis, use hourly observations from Fort Collins in 2014.  The data include both the precipitation amount in units of inches and pressure in units of hPa.  The data file is called homework1_data.csv!"
   ]
  },
  {
   "cell_type": "code",
   "execution_count": 2,
   "metadata": {},
   "outputs": [],
   "source": [
    "# load in packages\n",
    "import xarray as xr\n",
    "import numpy as np\n",
    "import matplotlib.pyplot as plt\n",
    "from scipy import stats\n",
    "import pandas as pd  # library for data analysis for text files (everything but netcdf files)\n",
    "%matplotlib inline"
   ]
  },
  {
   "cell_type": "code",
   "execution_count": 4,
   "metadata": {},
   "outputs": [],
   "source": [
    "data = pd.read_csv('homework1_data.csv')"
   ]
  },
  {
   "cell_type": "code",
   "execution_count": 21,
   "metadata": {},
   "outputs": [
    {
     "data": {
      "text/plain": [
       "Index(['P_hPa', 'R_inches'], dtype='object')"
      ]
     },
     "execution_count": 21,
     "metadata": {},
     "output_type": "execute_result"
    }
   ],
   "source": [
    "data"
   ]
  },
  {
   "cell_type": "markdown",
   "metadata": {},
   "source": [
    "## A.\n",
    "## What was the average pressure in 2014 ($\\bar{P}$)?  What was the average pressure when it rained ($\\bar{P}$$_{R >= 0.01}$)?  (10 points)!"
   ]
  },
  {
   "cell_type": "code",
   "execution_count": 18,
   "metadata": {},
   "outputs": [
    {
     "name": "stdout",
     "output_type": "stream",
     "text": [
      "The average pressure in 2014 was 846.33 hPa\n"
     ]
    }
   ],
   "source": [
    "# Average pressure in 2014\n",
    "\n",
    "p_avg = np.mean(data['P_hPa'].values)\n",
    "\n",
    "p_std = np.std(data['P_hPa'].values)\n",
    "\n",
    "print('The average pressure in 2014 was ' + np.str(np.round(p_avg,2)) + ' hPa')"
   ]
  },
  {
   "cell_type": "code",
   "execution_count": 31,
   "metadata": {},
   "outputs": [
    {
     "name": "stdout",
     "output_type": "stream",
     "text": [
      "The average pressure in 2014 when R > 0.01 inches was 846.82 hPa\n"
     ]
    }
   ],
   "source": [
    "# Average pressure in 2014 when there was precipiation over 0.01 inches\n",
    "\n",
    "p_precip = data['P_hPa'].where(data['R_inches'] > 0.01, np.NaN).dropna()\n",
    "\n",
    "p_avg_precip = np.mean(p_precip)\n",
    "\n",
    "print('The average pressure in 2014 when R > 0.01 inches was ' + np.str(np.round(p_avg_precip,2)) + ' hPa')"
   ]
  },
  {
   "cell_type": "markdown",
   "metadata": {},
   "source": [
    "## B.\n",
    "\n",
    "## Test your friends’ hypothesis by generating confidence intervals using both a t-statistic and a z-statistic. Is the average pressure different when it is raining?  What is more appropriate to use as a statistical test – a t- or a z-statistic? Use 95% confidence interval. (15 points)!"
   ]
  },
  {
   "cell_type": "code",
   "execution_count": 47,
   "metadata": {},
   "outputs": [],
   "source": [
    "# 95% C.I. Using a t-statistic\n",
    "\n",
    "N = len(p_precip) # number of samples\n",
    "df = N-1\n",
    "tstat = stats.t.ppf(0.975,df) # for the 95% C.I.\n",
    "\n",
    "low_limit_t = p_avg - tstat * (p_std/np.sqrt(N-1))\n",
    "high_limit_t = p_avg + tstat * (p_std/np.sqrt(N-1))"
   ]
  },
  {
   "cell_type": "code",
   "execution_count": 54,
   "metadata": {},
   "outputs": [],
   "source": [
    "# 95% C.I. Using a z-statistic\n",
    "\n",
    "zstat = stats.norm.ppf(0.975)\n",
    "\n",
    "low_limit_z = p_avg - zstat * (p_std/np.sqrt(N))\n",
    "high_limit_z = p_avg + zstat * (p_std/np.sqrt(N))"
   ]
  },
  {
   "cell_type": "code",
   "execution_count": 83,
   "metadata": {},
   "outputs": [
    {
     "name": "stdout",
     "output_type": "stream",
     "text": [
      "From a t-test, the 95% C.I. range is: 845.64-847.03 hPa\n",
      "From a z-test, the 95% C.I. range is: 845.64-847.02 hPa\n",
      "Our P value when there is non-negligible precipitation was 846.82 hPa, which is within the 95% C.I. for both a z- and t-test\n",
      "Thus, there is no relationship between the precipitation and atmospheric pressure.\n"
     ]
    }
   ],
   "source": [
    "# Results\n",
    "\n",
    "print(\"From a t-test, the 95% C.I. range is: \" + np.str(np.round(low_limit_t,2)) + '-' + np.str(np.round(high_limit_t,2)) + ' hPa')\n",
    "\n",
    "print(\"From a z-test, the 95% C.I. range is: \" + np.str(np.round(low_limit_z,2)) + '-' + np.str(np.round(high_limit_z,2)) + ' hPa')\n",
    "\n",
    "print(\"Our P value when there is non-negligible precipitation was 846.82 hPa, which is within the 95% C.I. for both a z- and t-test\")\n",
    "\n",
    "print(\"Thus, there is no relationship between the precipitation and atmospheric pressure.\")"
   ]
  },
  {
   "cell_type": "markdown",
   "metadata": {},
   "source": [
    "## C.\n",
    "\n",
    "## Instead of the t/z-test – use bootstrap sampling to determine whether the local pressure is anomalously high during times when it is raining. How does your answer compare with your results using the t/z-test? (15 points)!"
   ]
  },
  {
   "cell_type": "code",
   "execution_count": 59,
   "metadata": {},
   "outputs": [],
   "source": [
    "# Bootstrap\n",
    "\n",
    "bootstraps = 1000\n",
    "\n",
    "# initialize array\n",
    "P_Bootstrap=np.empty((bootstraps,N))\n",
    "\n",
    "## loop over to fill in array with randomly selected values\n",
    "for ii in range(bootstraps):\n",
    "    P_Bootstrap[ii,:]=np.random.choice(data['P_hPa'].values,N)"
   ]
  },
  {
   "cell_type": "code",
   "execution_count": 62,
   "metadata": {},
   "outputs": [
    {
     "data": {
      "text/plain": [
       "(1000, 254)"
      ]
     },
     "execution_count": 62,
     "metadata": {},
     "output_type": "execute_result"
    }
   ],
   "source": [
    "P_Bootstrap.shape"
   ]
  },
  {
   "cell_type": "code",
   "execution_count": 66,
   "metadata": {},
   "outputs": [],
   "source": [
    "bootstrap_avg = P_Bootstrap.mean(axis=1)"
   ]
  },
  {
   "cell_type": "code",
   "execution_count": 67,
   "metadata": {},
   "outputs": [
    {
     "data": {
      "text/plain": [
       "(1000,)"
      ]
     },
     "execution_count": 67,
     "metadata": {},
     "output_type": "execute_result"
    }
   ],
   "source": [
    "bootstrap_avg.shape"
   ]
  },
  {
   "cell_type": "code",
   "execution_count": 72,
   "metadata": {},
   "outputs": [
    {
     "name": "stdout",
     "output_type": "stream",
     "text": [
      "Bootstrap Averages: 846.32\n",
      "Bootstrap Std: 0.35\n",
      "Bootstrap Minimum: 845.11\n",
      "Bootstrap Maximum: 847.61\n"
     ]
    }
   ],
   "source": [
    "# Get statistics from the Bootstrap\n",
    "\n",
    "P_Bootstrap_mean_avg=np.mean(bootstrap_avg)\n",
    "print(\"Bootstrap Averages: \" + np.str(np.round(P_Bootstrap_mean_avg,2)))\n",
    "P_Bootstrap_mean_std=np.std(bootstrap_avg)\n",
    "print(\"Bootstrap Std: \" + np.str(np.round(P_Bootstrap_mean_std,2)))\n",
    "P_Bootstrap_mean_min=np.min(bootstrap_avg)\n",
    "print(\"Bootstrap Minimum: \" + np.str(np.round(P_Bootstrap_mean_min,2)))\n",
    "P_Bootstrap_mean_max=np.max(bootstrap_avg)\n",
    "print(\"Bootstrap Maximum: \" + np.str(np.round(P_Bootstrap_mean_max,2)))"
   ]
  },
  {
   "cell_type": "code",
   "execution_count": 84,
   "metadata": {},
   "outputs": [
    {
     "data": {
      "text/plain": [
       "Text(0.5, 1.0, 'Bootstrapped random values for Pressure')"
      ]
     },
     "execution_count": 84,
     "metadata": {},
     "output_type": "execute_result"
    },
    {
     "data": {
      "image/png": "[encoded data removed]",
      "text/plain": [
       "<Figure size 432x288 with 1 Axes>"
      ]
     },
     "metadata": {
      "needs_background": "light"
     },
     "output_type": "display_data"
    }
   ],
   "source": [
    "# Generate a distribution of the bootstrap\n",
    "binsize=0.1\n",
    "min4hist=np.round(np.min(bootstrap_avg),1)-binsize\n",
    "max4hist=np.round(np.max(bootstrap_avg),1)+binsize\n",
    "nbins=int((max4hist-min4hist)/binsize)\n",
    "\n",
    "\n",
    "plt.hist(bootstrap_avg,nbins,edgecolor='black')\n",
    "plt.xlabel('Mean P (hPa)')\n",
    "plt.ylabel('Count')\n",
    "plt.title('Bootstrapped random values for Pressure')"
   ]
  },
  {
   "cell_type": "code",
   "execution_count": 87,
   "metadata": {},
   "outputs": [
    {
     "name": "stdout",
     "output_type": "stream",
     "text": [
      "Confidence Intervals from the Bootstrap Distribution\n",
      "845.6274281496063\n",
      "847.0201545275589\n"
     ]
    }
   ],
   "source": [
    "# 95% C.I.\n",
    "alpha = 0.05\n",
    "\n",
    "# Upper should have 97.5%\n",
    "upper_limit = 1 - alpha/2\n",
    "CI_up = np.percentile(bootstrap_avg, 100*(upper_limit))\n",
    "\n",
    "# Lower should have 2.5%\n",
    "upper_limit = alpha/2\n",
    "CI_lo = np.percentile(bootstrap_avg, 100*(upper_limit))\n",
    "\n",
    "print(\"Confidence Intervals from the Bootstrap Distribution:\")\n",
    "print(CI_lo)\n",
    "print(CI_up)"
   ]
  },
  {
   "cell_type": "code",
   "execution_count": 90,
   "metadata": {},
   "outputs": [
    {
     "name": "stdout",
     "output_type": "stream",
     "text": [
      "Our sample value falls within the range of the bootstrap distribution 95% confidence interval, so we need to reject the hypothesis that they are different!\n"
     ]
    }
   ],
   "source": [
    "print(\"Our sample value falls within the range of the bootstrap distribution 95% confidence interval, so we need to reject the hypothesis that they are different!\")"
   ]
  },
  {
   "cell_type": "code",
   "execution_count": null,
   "metadata": {},
   "outputs": [],
   "source": []
  }
 ],
 "metadata": {
  "kernelspec": {
   "display_name": "Python 3",
   "language": "python",
   "name": "python3"
  },
  "language_info": {
   "codemirror_mode": {
    "name": "ipython",
    "version": 3
   },
   "file_extension": ".py",
   "mimetype": "text/x-python",
   "name": "python",
   "nbconvert_exporter": "python",
   "pygments_lexer": "ipython3",
   "version": "3.8.6"
  }
 },
 "nbformat": 4,
 "nbformat_minor": 4
}
